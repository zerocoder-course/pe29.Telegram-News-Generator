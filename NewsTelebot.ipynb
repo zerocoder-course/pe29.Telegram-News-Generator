{
 "cells": [
  {
   "cell_type": "code",
   "execution_count": null,
   "id": "5c7ad464-4390-47a6-8d0a-98c0e7a9df76",
   "metadata": {},
   "outputs": [],
   "source": [
    "pip install openai"
   ]
  },
  {
   "cell_type": "code",
   "execution_count": null,
   "id": "1ae8a795-45a4-4a1d-9923-26538d589a67",
   "metadata": {},
   "outputs": [],
   "source": [
    "import os\n",
    "import openai\n",
    "#from google.colab import userdata\n",
    "\n",
    "os.environ[\"OPENAI_API_KEY\"] = \"sk-proj-C09Y\""
   ]
  },
  {
   "cell_type": "code",
   "execution_count": null,
   "id": "2d0c7084-28f8-4783-84e7",
   "metadata": {},
   "outputs": [],
   "source": [
    "def generate_post(topic):\n",
    "    prompt_post = f\"Напишите подробный пост для блога на тему: {topic}.\"\n",
    "    response_post = openai.chat.completions.create(\n",
    "        model=\"gpt-4o-mini\",\n",
    "        messages=[{\"role\": \"user\", \"content\": prompt_post}],\n",
    "        max_tokens=50,\n",
    "        n=1,\n",
    "        stop=None,\n",
    "        temperature=0.7,\n",
    "    )\n",
    "    post_content = response_post.choices[0].message.content.strip()\n",
    "\n",
    "    return post_content"
   ]
  },
  {
   "cell_type": "code",
   "execution_count": null,
   "id": "c62398b2-34c5-47bf-8c3f-1529a56061a2",
   "metadata": {},
   "outputs": [],
   "source": [
    "topics = [\n",
    "    \"Преимущества медитации\",\n",
    "    \"Здоровое питание для занятых людей\",\n",
    "    \"Советы по управлению временем\",\n",
    "    \"Как начать свой бизнес\",\n",
    "    \"Путешествия по бюджету\"\n",
    "]"
   ]
  },
  {
   "cell_type": "code",
   "execution_count": null,
   "id": "bd5eee5e-6e0c-486f-8cbd-267aa0e944e3",
   "metadata": {},
   "outputs": [],
   "source": [
    "for topic in topics:\n",
    "    generated_post = generate_post(topic)\n",
    "    print(f\"Тема: {topic}\\n\")\n",
    "    print(generated_post)\n",
    "    print(\"---\")"
   ]
  },
  {
   "cell_type": "code",
   "execution_count": null,
   "id": "3831288d-4f44-480e-8d67-887da4f2ba43",
   "metadata": {},
   "outputs": [],
   "source": [
    "def generate_post(topic):\n",
    "    prompt_title = f\"Придумайте привлекательный заголовок для поста на тему: {topic}\"\n",
    "    response_title = openai.chat.completions.create(\n",
    "        model=\"gpt-4o-mini\",\n",
    "        messages=[{\"role\": \"user\", \"content\": prompt_title}],\n",
    "        max_tokens=50,\n",
    "        n=1,\n",
    "        temperature=0.7,\n",
    "    )\n",
    "    title = response_title.choices[0].message.content.strip()\n",
    "\n",
    "    prompt_meta = f\"Напишите краткое, но информативное мета-описание для поста с заголовком: {title}\"\n",
    "    response_meta = openai.chat.completions.create(\n",
    "        model=\"gpt-4o-mini\",\n",
    "        messages=[{\"role\": \"user\", \"content\": prompt_meta}],\n",
    "        max_tokens=100,\n",
    "        n=1,\n",
    "        temperature=0.7,\n",
    "    )\n",
    "    meta_description = response_meta.choices[0].message.content.strip()\n",
    "\n",
    "    prompt_post = f\"Напишите подробный и увлекательный пост для блога на тему: {topic}. Используйте короткие абзацы, подзаголовки, примеры и ключевые слова для лучшего восприятия и SEO-оптимизации.\"\n",
    "    response_post = openai.chat.completions.create(\n",
    "        model=\"gpt-4o-mini\",\n",
    "        messages=[{\"role\": \"user\", \"content\": prompt_post}],\n",
    "        max_tokens=2048,\n",
    "        n=1,\n",
    "        temperature=0.7,\n",
    "    )\n",
    "    post_content = response_post.choices[0].message.content.strip()\n",
    "\n",
    "    return {\n",
    "        \"title\": title,\n",
    "        \"meta_description\": meta_description,\n",
    "        \"post_content\": post_content\n",
    "    }"
   ]
  },
  {
   "cell_type": "code",
   "execution_count": null,
   "id": "77924cd0-ce73-482e-a32c-7a59a1",
   "metadata": {},
   "outputs": [],
   "source": [
    "post = generate_post(topic)\n",
    "print(post)"
   ]
  },
  {
   "cell_type": "code",
   "execution_count": null,
   "id": "e29b49ac-1cfc-4217-8ca1-f8828",
   "metadata": {},
   "outputs": [],
   "source": [
    "import pprint\n",
    "pprint.pprint(post, compact=True)"
   ]
  },
  {
   "cell_type": "code",
   "execution_count": null,
   "id": "6e6c2e1e-f7ac-4a7b-ac54-0e17ec87af75",
   "metadata": {},
   "outputs": [],
   "source": [
    "import requests\n",
    "api_key=\"sk-9d4\"\n",
    "response = requests.post(\n",
    "    f\"https://api.stability.ai/v2beta/stable-image/generate/sd3\",\n",
    "    headers={\n",
    "        \"authorization\": f\"Bearer {api_key}\", #sk-9d4a\n",
    "        \"accept\": \"image/*\"\n",
    "    },\n",
    "    files={\"none\": ''},\n",
    "    data={\n",
    "        \"prompt\": \"cat ninja with sword, redy to firght\", # промпт\n",
    "        \"output_format\": \"jpeg\", # Меняем формат \"webp\" на \"jpeg\"\n",
    "    },\n",
    ")\n",
    "\n",
    "if response.status_code == 200:\n",
    "    with open(\"./story.jpg\", 'wb') as file:\n",
    "        file.write(response.content)\n",
    "else:\n",
    "    raise Exception(str(response.json()))"
   ]
  },
  {
   "cell_type": "code",
   "execution_count": null,
   "id": "d867e9f8-e73b-4656-b779-611",
   "metadata": {},
   "outputs": [],
   "source": [
    "!pip install pillow"
   ]
  },
  {
   "cell_type": "code",
   "execution_count": null,
   "id": "ecf154f7-6fc2-48c6-adda-50b",
   "metadata": {},
   "outputs": [],
   "source": [
    "from PIL import Image, ImageDraw, ImageFont\n",
    "text = generate_post(\"Ninja Cat, Story of Greate fighter\")\n"
   ]
  },
  {
   "cell_type": "code",
   "execution_count": 45,
   "id": "5e1fb552-d1d2-42e1-a9e0-2a12",
   "metadata": {},
   "outputs": [],
   "source": [
    "img = Image.open('story.jpg').convert('RGBA')\n",
    "draw = ImageDraw.Draw(img)\n",
    "font = ImageFont.truetype('FreeMono.ttf', 65)\n"
   ]
  },
  {
   "cell_type": "code",
   "execution_count": 47,
   "id": "e818ef3b-73f1-4f81-8e9f-0b84",
   "metadata": {},
   "outputs": [],
   "source": [
    "\n",
    "img_width, img_height = img.size\n",
    "x, y = 100, 500\n",
    "# Разбиваем текст на строки по переносу\n",
    "lines = []\n",
    "line = \"\"\n",
    "for word in text.get('title').split():\n",
    "    if draw.textlength(line + word, font) <= img_width - 200:\n",
    "        line += word + \" \"\n",
    "    else:\n",
    "        lines.append(line.strip())\n",
    "        line = word + \" \"\n",
    "lines.append(line.strip())\n",
    "\n",
    "# Получаем высоту строки\n",
    "ascent, descent = font.getmetrics()\n",
    "line_height = ascent + descent\n",
    "\n",
    "# Получаем размеры текста\n",
    "text_width = max(draw.textlength(line, font) for line in lines)\n",
    "text_height = line_height * len(lines)"
   ]
  },
  {
   "cell_type": "code",
   "execution_count": 49,
   "id": "387505ad-8d08-4ee8-8422-608a",
   "metadata": {},
   "outputs": [],
   "source": [
    "overlay = Image.new('RGBA', (int(text_width), int(text_height)), (0, 0, 128, 180))\n",
    "img.paste(overlay, (int(x), int(y)), mask=overlay)\n",
    "for line in lines:\n",
    "    draw.text((x, y), line, font=font, fill=(255, 0, 0))\n",
    "    y += line_height\n",
    "img = img.convert(\"RGB\")\n",
    "img.save(\"story_text.jpg\")"
   ]
  },
  {
   "cell_type": "code",
   "execution_count": 51,
   "id": "94165d7f-ed67-4261-b219-3725",
   "metadata": {},
   "outputs": [
    {
     "name": "stdout",
     "output_type": "stream",
     "text": [
      "Изображение успешно обрезано и сохранено как story_cropped.jpg\n"
     ]
    }
   ],
   "source": [
    "import requests\n",
    "from PIL import Image\n",
    "# Запрос к API для генерации изображения\n",
    "response = requests.post(\n",
    "    f\"https://api.stability.ai/v2beta/stable-image/generate/sd3\",\n",
    "    headers={\n",
    "        \"authorization\": f\"Bearer {api_key}\",\n",
    "        \"accept\": \"image/*\"\n",
    "    },\n",
    "    files={\"none\": ''},\n",
    "    data={\n",
    "        \"prompt\": \"Cat samurai with sword in mask, ready to fight\",\n",
    "        \"output_format\": \"jpeg\",\n",
    "    },\n",
    ")\n",
    "# Проверка успешного ответа\n",
    "if response.status_code == 200:\n",
    "    # Сохранение сгенерированного изображения\n",
    "    with open(\"./story.jpg\", 'wb') as file:\n",
    "        file.write(response.content)\n",
    "    # Открытие изображения с помощью Pillow\n",
    "    with Image.open(\"./story.jpg\") as img:\n",
    "        # Получение текущих размеров изображения\n",
    "        width, height = img.size\n",
    "        # Целевое соотношение 9:16\n",
    "        target_aspect_ratio = 9 / 16\n",
    "        current_aspect_ratio = width / height\n",
    "        if current_aspect_ratio > target_aspect_ratio:\n",
    "            # Ширина изображения слишком большая, нужно обрезать по ширине\n",
    "            new_width = int(height * target_aspect_ratio)\n",
    "            left = (width - new_width) // 2\n",
    "            right = left + new_width\n",
    "            cropped_img = img.crop((left, 0, right, height))\n",
    "        elif current_aspect_ratio < target_aspect_ratio:\n",
    "            # Высота изображения слишком большая, нужно обрезать по высоте\n",
    "            new_height = int(width / target_aspect_ratio)\n",
    "            top = (height - new_height) // 2\n",
    "            bottom = top + new_height\n",
    "            cropped_img = img.crop((0, top, width, bottom))\n",
    "        else:\n",
    "            # Изображение уже в нужных пропорциях\n",
    "            cropped_img = img\n",
    "        # Сохранение обрезанного изображения\n",
    "        cropped_img.save(\"./story_cropped.jpg\")\n",
    "        print(\"Изображение успешно обрезано и сохранено как story_cropped.jpg\")\n",
    "else:\n",
    "    raise Exception(str(response.json()))"
   ]
  },
  {
   "cell_type": "code",
   "execution_count": 57,
   "id": "81446651-3c98-4686-8fdd-aeb6",
   "metadata": {},
   "outputs": [
    {
     "name": "stdout",
     "output_type": "stream",
     "text": [
      "\"Каждый кот ниндзя знает: истинная сила не в мускулах, а в решимости следовать своему пути, несмотря на преграды.\"\n"
     ]
    }
   ],
   "source": [
    "from PIL import Image, ImageDraw, ImageFont\n",
    "#import os\n",
    "#import openai\n",
    "#from google.colab import userdata\n",
    "\n",
    "#os.environ[\"OPENAI_API_KEY\"] = userdata.get('OPENAI_API_KEY')\n",
    "\n",
    "def generate_post(topic):\n",
    "    prompt = f\"\"\"\n",
    "        Используй тему для генерации оригинальной вдохновляющей цитаты.\n",
    "        Она должна быть краткой, лаконичной и легкой для понимания.\n",
    "        Цитата должна иметь потенциал изменить чью-то жизнь.\n",
    "        Максимум 25 слов.\n",
    "        ---\n",
    "        Тема: {topic}\n",
    "        Вдохновляющая цитата:\n",
    "        \"\"\"\n",
    "    response = openai.chat.completions.create(\n",
    "        model=\"gpt-4o-mini\",\n",
    "        messages=[{\"role\": \"user\", \"content\": prompt}],\n",
    "        max_tokens=50,\n",
    "        n=1,\n",
    "        stop=None,\n",
    "        temperature=0.7,\n",
    "    )\n",
    "    return response.choices[0].message.content.strip()\n",
    "\n",
    "# Текст, который нужно добавить\n",
    "text = generate_post(\"Кот ниндзя, путь великого воина\")\n",
    "print(text)"
   ]
  },
  {
   "cell_type": "code",
   "execution_count": 61,
   "id": "c502b6fb-2611-47ce-95d4-66c63080d0d7",
   "metadata": {},
   "outputs": [],
   "source": [
    "\n",
    "# Открываем изображение\n",
    "img = Image.open('story_cropped.jpg').convert('RGBA')\n",
    "\n",
    "# Создаем объект для рисования на изображении\n",
    "draw = ImageDraw.Draw(img)\n",
    "\n",
    "# Задаем шрифт и размер шрифта (обязательно шрифт с поддержкой кириллицы)\n",
    "#font_path = 'Roboto-Thin.ttf'  # Убедитесь, что шрифт поддерживает кириллицу\n",
    "font = ImageFont.truetype('FreeMono.ttf', 40)\n",
    "\n",
    "# Получаем размеры изображения\n",
    "img_width, img_height = img.size\n",
    "\n",
    "# Задаем начальную позицию для текста\n",
    "x, y = 100, 400\n",
    "\n",
    "# Разбиваем текст на строки по переносу\n",
    "lines = []\n",
    "line = \"\"\n",
    "for word in text.split():\n",
    "    if draw.textlength(line + word, font) <= img_width - 200:\n",
    "        line += word + \" \"\n",
    "    else:\n",
    "        lines.append(line.strip())\n",
    "        line = word + \" \"\n",
    "lines.append(line.strip())\n",
    "\n",
    "# Получаем высоту строки\n",
    "ascent, descent = font.getmetrics()\n",
    "line_height = ascent + descent\n",
    "\n",
    "# Получаем размеры текста\n",
    "text_width = max(draw.textlength(line, font) for line in lines)\n",
    "text_height = line_height * len(lines)\n",
    "\n",
    "# Создаем новый слой с темно-синим цветом и прозрачностью 70%\n",
    "overlay = Image.new('RGBA', (int(text_width), int(text_height)), (0, 0, 128, 180))\n",
    "\n",
    "# Объединяем изображение и слой с помощью наложения\n",
    "img.paste(overlay, (int(x), int(y)), mask=overlay)\n",
    "\n",
    "# Добавляем текст на изображение, перенося на новую строку при необходимости\n",
    "for line in lines:\n",
    "    draw.text((x, y), line, font=font, fill=(255, 0, 0))\n",
    "    y += line_height\n",
    "\n",
    "# Удаляем альфа-канал\n",
    "img = img.convert(\"RGB\")\n",
    "\n",
    "# Сохраняем изображение в формате JPEG\n",
    "img.save(\"story_text_crop.jpg\")"
   ]
  }
 ],
 "metadata": {
  "kernelspec": {
   "display_name": "Python 3 (ipykernel)",
   "language": "python",
   "name": "python3"
  },
  "language_info": {
   "codemirror_mode": {
    "name": "ipython",
    "version": 3
   },
   "file_extension": ".py",
   "mimetype": "text/x-python",
   "name": "python",
   "nbconvert_exporter": "python",
   "pygments_lexer": "ipython3",
   "version": "3.12.7"
  }
 },
 "nbformat": 4,
 "nbformat_minor": 5
}
